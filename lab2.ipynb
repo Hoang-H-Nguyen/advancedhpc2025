{
 "cells": [
  {
   "cell_type": "code",
   "execution_count": 1,
   "id": "ef82e34f",
   "metadata": {},
   "outputs": [],
   "source": [
    "from numba import cuda"
   ]
  },
  {
   "cell_type": "code",
   "execution_count": 2,
   "id": "88c9aae0",
   "metadata": {},
   "outputs": [
    {
     "name": "stdout",
     "output_type": "stream",
     "text": [
      "Found 1 CUDA devices\n",
      "id 0    b'NVIDIA GeForce RTX 3050 Laptop GPU'                              [SUPPORTED]\n",
      "                      Compute Capability: 8.6\n",
      "                           PCI Device ID: 0\n",
      "                              PCI Bus ID: 1\n",
      "                                    UUID: GPU-61c0dbd8-c7f9-d5ae-5009-0252ec5b7d9d\n",
      "                                Watchdog: Enabled\n",
      "                            Compute Mode: WDDM\n",
      "             FP32/FP64 Performance Ratio: 32\n",
      "Summary:\n",
      "\t1/1 devices are supported\n",
      "True\n"
     ]
    }
   ],
   "source": [
    "print(cuda.detect())"
   ]
  },
  {
   "cell_type": "code",
   "execution_count": 3,
   "id": "f9cfb0da",
   "metadata": {},
   "outputs": [
    {
     "data": {
      "text/plain": [
       "{'id': <CUdevice 0>,\n",
       " 'attributes': {},\n",
       " 'COMPUTE_CAPABILITY_MAJOR': 8,\n",
       " 'COMPUTE_CAPABILITY_MINOR': 6,\n",
       " 'compute_capability': (8, 6),\n",
       " 'name': b'NVIDIA GeForce RTX 3050 Laptop GPU',\n",
       " 'uuid': 'GPU-61c0dbd8-c7f9-d5ae-5009-0252ec5b7d9d',\n",
       " 'primary_context': <CUDA context c_void_p(2899783511568) of device 0>,\n",
       " 'KERNEL_EXEC_TIMEOUT': 1,\n",
       " 'TCC_DRIVER': 0,\n",
       " 'SINGLE_TO_DOUBLE_PRECISION_PERF_RATIO': 32,\n",
       " 'PCI_DEVICE_ID': 0,\n",
       " 'PCI_BUS_ID': 1}"
      ]
     },
     "execution_count": 3,
     "metadata": {},
     "output_type": "execute_result"
    }
   ],
   "source": [
    "device = cuda.get_current_device()\n",
    "(device.__dict__)"
   ]
  },
  {
   "cell_type": "code",
   "execution_count": 4,
   "id": "9623422a",
   "metadata": {},
   "outputs": [
    {
     "name": "stdout",
     "output_type": "stream",
     "text": [
      "Multiprocessor count:  16\n"
     ]
    }
   ],
   "source": [
    "print(\"Multiprocessor count: \", device.MULTIPROCESSOR_COUNT)"
   ]
  },
  {
   "cell_type": "code",
   "execution_count": 5,
   "id": "0401f8d8",
   "metadata": {},
   "outputs": [
    {
     "name": "stdout",
     "output_type": "stream",
     "text": [
      "My GPU's total number of SMs:  16\n",
      "My GPU's compute capability:  (8, 6)\n",
      "My GPU's total cores:  2048\n"
     ]
    }
   ],
   "source": [
    "compute_capability_dict = {\n",
    "    (2,0) : 32,\n",
    "    (2,1) : 48,\n",
    "    (3,0) : 192,\n",
    "    (3,5) : 192,\n",
    "    (3,7) : 192,\n",
    "    (5,0) : 128,\n",
    "    (5,2) : 128,\n",
    "    (6,0) : 64,\n",
    "    (6,1) : 128,\n",
    "    (7,0) : 64,\n",
    "    (7,5) : 64,\n",
    "    (8,0) : 64,\n",
    "    (8,6) : 128,\n",
    "    (8,9) : 128,\n",
    "    (9,0) : 128,\n",
    "    (10,0) : 128,\n",
    "    (12,0) : 128\n",
    "    }\n",
    "\n",
    "my_device = cuda.get_current_device()\n",
    "my_sm_count = getattr(device, 'MULTIPROCESSOR_COUNT')\n",
    "my_compute_capability = my_device.compute_capability\n",
    "my_cores_per_sm = compute_capability_dict.get(my_compute_capability)\n",
    "my_total_cores = my_cores_per_sm * my_sm_count\n",
    "\n",
    "print(\"My GPU's total number of SMs: \" , my_sm_count)\n",
    "print(\"My GPU's compute capability: \" , my_device.compute_capability)\n",
    "print(\"My GPU's total cores: \" , my_total_cores)"
   ]
  },
  {
   "cell_type": "code",
   "execution_count": 6,
   "id": "f0790f81",
   "metadata": {},
   "outputs": [
    {
     "name": "stdout",
     "output_type": "stream",
     "text": [
      "Memory information of current context in byte (free/total): 3475452724/4294443008\n",
      "Memory information of current context in GB (free/total): 3.236767578870058/3.99951171875\n"
     ]
    }
   ],
   "source": [
    "current_context = cuda.current_context()\n",
    "memory_info = current_context.get_memory_info()\n",
    "print(f\"Memory information of current context in byte (free/total): {memory_info.free}/{memory_info.total}\")\n",
    "print(f\"Memory information of current context in GB (free/total): {memory_info.free/1024**3}/{memory_info.total/1024**3}\")"
   ]
  },
  {
   "cell_type": "code",
   "execution_count": null,
   "id": "eb533e62",
   "metadata": {},
   "outputs": [],
   "source": []
  }
 ],
 "metadata": {
  "kernelspec": {
   "display_name": "hpcvenv",
   "language": "python",
   "name": "python3"
  },
  "language_info": {
   "codemirror_mode": {
    "name": "ipython",
    "version": 3
   },
   "file_extension": ".py",
   "mimetype": "text/x-python",
   "name": "python",
   "nbconvert_exporter": "python",
   "pygments_lexer": "ipython3",
   "version": "3.12.7"
  }
 },
 "nbformat": 4,
 "nbformat_minor": 5
}
